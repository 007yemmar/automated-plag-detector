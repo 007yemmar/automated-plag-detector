{
  "cells": [
    {
      "cell_type": "code",
      "source": [
        "from google.colab import drive\n",
        "drive.mount('/content/drive')"
      ],
      "metadata": {
        "colab": {
          "base_uri": "https://localhost:8080/"
        },
        "id": "33m-A7rqtU_A",
        "outputId": "e58120ec-8205-4d70-e16e-5db320fd1524"
      },
      "id": "33m-A7rqtU_A",
      "execution_count": null,
      "outputs": [
        {
          "output_type": "stream",
          "name": "stdout",
          "text": [
            "Drive already mounted at /content/drive; to attempt to forcibly remount, call drive.mount(\"/content/drive\", force_remount=True).\n"
          ]
        }
      ]
    },
    {
      "cell_type": "code",
      "source": [
        "import gdown"
      ],
      "metadata": {
        "id": "hRlIOJpztnWM"
      },
      "id": "hRlIOJpztnWM",
      "execution_count": null,
      "outputs": []
    },
    {
      "cell_type": "code",
      "source": [
        "url = 'https://drive.google.com/file/d/1lNOfBKK9ZD9oi093naZdfliKCezFV5hP/edit'\n",
        "output = 'train_snli.txt'\n",
        "\n",
        "gdown.download(url, output, quiet=False)"
      ],
      "metadata": {
        "colab": {
          "base_uri": "https://localhost:8080/",
          "height": 166
        },
        "id": "o6QHNqwTuGzT",
        "outputId": "e99b4b8d-1b82-4f90-ed44-fcd8097294c9"
      },
      "id": "o6QHNqwTuGzT",
      "execution_count": null,
      "outputs": [
        {
          "output_type": "stream",
          "name": "stderr",
          "text": [
            "/usr/local/lib/python3.8/dist-packages/gdown/parse_url.py:35: UserWarning: You specified a Google Drive link that is not the correct link to download a file. You might want to try `--fuzzy` option or the following url: https://drive.google.com/uc?id=None\n",
            "  warnings.warn(\n",
            "Downloading...\n",
            "From: https://drive.google.com/file/d/1lNOfBKK9ZD9oi093naZdfliKCezFV5hP/edit\n",
            "To: /content/train_snli.txt\n",
            "71.4kB [00:00, 29.2MB/s]\n"
          ]
        },
        {
          "output_type": "execute_result",
          "data": {
            "text/plain": [
              "'train_snli.txt'"
            ],
            "application/vnd.google.colaboratory.intrinsic+json": {
              "type": "string"
            }
          },
          "metadata": {},
          "execution_count": 3
        }
      ]
    },
    {
      "cell_type": "code",
      "execution_count": null,
      "id": "driven-oliver",
      "metadata": {
        "_cell_guid": "b1076dfc-b9ad-4769-8c92-a6c4dae69d19",
        "_kg_hide-input": true,
        "_kg_hide-output": true,
        "_uuid": "8f2839f25d086af736a60e9eeb907d3b93b6e0e5",
        "execution": {
          "iopub.execute_input": "2021-05-07T02:10:24.631346Z",
          "iopub.status.busy": "2021-05-07T02:10:24.630654Z",
          "iopub.status.idle": "2021-05-07T02:10:25.527024Z",
          "shell.execute_reply": "2021-05-07T02:10:25.527908Z"
        },
        "papermill": {
          "duration": 0.939945,
          "end_time": "2021-05-07T02:10:25.528562",
          "exception": false,
          "start_time": "2021-05-07T02:10:24.588617",
          "status": "completed"
        },
        "tags": [],
        "id": "driven-oliver"
      },
      "outputs": [],
      "source": [
        "#Importing relevant libraries\n",
        "\n",
        "import numpy as np # linear algebra\n",
        "import pandas as pd # data processing, CSV file I/O (e.g. pd.read_csv)\n",
        "import matplotlib.pyplot as plt\n",
        "import seaborn as sns\n",
        "from collections import Counter"
      ]
    },
    {
      "cell_type": "code",
      "execution_count": null,
      "id": "scientific-excuse",
      "metadata": {
        "execution": {
          "iopub.execute_input": "2021-05-07T02:10:25.728943Z",
          "iopub.status.busy": "2021-05-07T02:10:25.728300Z",
          "iopub.status.idle": "2021-05-07T02:10:25.730241Z",
          "shell.execute_reply": "2021-05-07T02:10:25.730721Z"
        },
        "papermill": {
          "duration": 0.037254,
          "end_time": "2021-05-07T02:10:25.730892",
          "exception": false,
          "start_time": "2021-05-07T02:10:25.693638",
          "status": "completed"
        },
        "tags": [],
        "id": "scientific-excuse"
      },
      "outputs": [],
      "source": [
        "#Reading the Document\n",
        "\n",
        "def read_docu(file):\n",
        "    \n",
        "    all_words = []\n",
        "    \n",
        "    with open(file, \"r\", encoding = \"utf-8\") as input_file:\n",
        "        for line in input_file:\n",
        "            line = line.lower()\n",
        "            line = line.strip().split()\n",
        "            all_words += line\n",
        "        return(all_words)"
      ]
    },
    {
      "cell_type": "code",
      "execution_count": null,
      "id": "colored-austin",
      "metadata": {
        "execution": {
          "iopub.execute_input": "2021-05-07T02:10:25.793381Z",
          "iopub.status.busy": "2021-05-07T02:10:25.792721Z",
          "iopub.status.idle": "2021-05-07T02:10:25.797743Z",
          "shell.execute_reply": "2021-05-07T02:10:25.797213Z"
        },
        "papermill": {
          "duration": 0.037214,
          "end_time": "2021-05-07T02:10:25.797893",
          "exception": false,
          "start_time": "2021-05-07T02:10:25.760679",
          "status": "completed"
        },
        "tags": [],
        "id": "colored-austin"
      },
      "outputs": [],
      "source": [
        "#Counting number of occourences of each distinct word in the document\n",
        "\n",
        "def word_counter(all_words):\n",
        "    \n",
        "    word_count = Counter()\n",
        "    for word in all_words:\n",
        "        word_count[word] += 1\n",
        "    return(word_count.values())"
      ]
    },
    {
      "cell_type": "code",
      "execution_count": null,
      "id": "approved-square",
      "metadata": {
        "execution": {
          "iopub.execute_input": "2021-05-07T02:10:25.863124Z",
          "iopub.status.busy": "2021-05-07T02:10:25.862506Z",
          "iopub.status.idle": "2021-05-07T02:10:25.864357Z",
          "shell.execute_reply": "2021-05-07T02:10:25.864853Z"
        },
        "papermill": {
          "duration": 0.037206,
          "end_time": "2021-05-07T02:10:25.865011",
          "exception": false,
          "start_time": "2021-05-07T02:10:25.827805",
          "status": "completed"
        },
        "tags": [],
        "id": "approved-square"
      },
      "outputs": [],
      "source": [
        "#Word Rank vs Frequency of occourence analysis Plot\n",
        "\n",
        "def draw_zipfian_curve(word_count):\n",
        "    plt.plot(sorted(word_count, reverse = True), marker = \"o\")\n",
        "    plt.xscale(\"log\")\n",
        "    plt.yscale(\"log\")\n",
        "    plt.xlabel(\"log(Rank)\")\n",
        "    plt.ylabel(\"log(Frequency)\")\n",
        "    plt.show()"
      ]
    },
    {
      "cell_type": "code",
      "execution_count": null,
      "id": "emotional-thirty",
      "metadata": {
        "execution": {
          "iopub.execute_input": "2021-05-07T02:10:25.927648Z",
          "iopub.status.busy": "2021-05-07T02:10:25.926992Z",
          "iopub.status.idle": "2021-05-07T02:10:25.930936Z",
          "shell.execute_reply": "2021-05-07T02:10:25.931480Z"
        },
        "papermill": {
          "duration": 0.036815,
          "end_time": "2021-05-07T02:10:25.931652",
          "exception": false,
          "start_time": "2021-05-07T02:10:25.894837",
          "status": "completed"
        },
        "tags": [],
        "id": "emotional-thirty"
      },
      "outputs": [],
      "source": [
        "def zipfian_plot(file):\n",
        "    word_corpus = read_docu(file)\n",
        "    counts = word_counter(word_corpus)\n",
        "    draw_zipfian_curve(counts)"
      ]
    },
    {
      "cell_type": "code",
      "execution_count": null,
      "id": "imperial-constitution",
      "metadata": {
        "execution": {
          "iopub.execute_input": "2021-05-07T02:10:25.994806Z",
          "iopub.status.busy": "2021-05-07T02:10:25.994191Z",
          "iopub.status.idle": "2021-05-07T02:10:31.104462Z",
          "shell.execute_reply": "2021-05-07T02:10:31.103873Z"
        },
        "papermill": {
          "duration": 5.143017,
          "end_time": "2021-05-07T02:10:31.104607",
          "exception": false,
          "start_time": "2021-05-07T02:10:25.961590",
          "status": "completed"
        },
        "tags": [],
        "colab": {
          "base_uri": "https://localhost:8080/",
          "height": 283
        },
        "id": "imperial-constitution",
        "outputId": "34f02fcc-0cc9-4f12-cb0a-4fe5f0e747f3"
      },
      "outputs": [
        {
          "output_type": "display_data",
          "data": {
            "text/plain": [
              "<Figure size 432x288 with 1 Axes>"
            ],
            "image/png": "[encoded data removed]"
          },
          "metadata": {
            "needs_background": "light"
          }
        }
      ],
      "source": [
        "zipfian_plot(\"/content/drive/MyDrive/train_snli.txt\")"
      ]
    },
    {
      "cell_type": "code",
      "execution_count": null,
      "id": "comic-robertson",
      "metadata": {
        "execution": {
          "iopub.execute_input": "2021-05-07T02:10:31.174202Z",
          "iopub.status.busy": "2021-05-07T02:10:31.173108Z",
          "iopub.status.idle": "2021-05-07T02:10:31.866925Z",
          "shell.execute_reply": "2021-05-07T02:10:31.866274Z"
        },
        "papermill": {
          "duration": 0.730558,
          "end_time": "2021-05-07T02:10:31.867072",
          "exception": false,
          "start_time": "2021-05-07T02:10:31.136514",
          "status": "completed"
        },
        "tags": [],
        "colab": {
          "base_uri": "https://localhost:8080/",
          "height": 280
        },
        "id": "comic-robertson",
        "outputId": "335c8fc0-20f0-4771-da8f-26c4a660ddec"
      },
      "outputs": [
        {
          "output_type": "stream",
          "name": "stderr",
          "text": [
            "/usr/local/lib/python3.8/dist-packages/IPython/core/interactiveshell.py:3326: FutureWarning: The error_bad_lines argument has been deprecated and will be removed in a future version.\n",
            "\n",
            "\n",
            "  exec(code_obj, self.user_global_ns, self.user_ns)\n"
          ]
        },
        {
          "output_type": "execute_result",
          "data": {
            "text/plain": [
              "  A person on a horse jumps over a broken down airplane.  \\\n",
              "0  A person on a horse jumps over a broken down a...       \n",
              "1              Children smiling and waving at camera       \n",
              "2              Children smiling and waving at camera       \n",
              "3  A boy is jumping on skateboard in the middle o...       \n",
              "4  A boy is jumping on skateboard in the middle o...       \n",
              "\n",
              "  A person is at a diner, ordering an omelette.  0  \n",
              "0             A person is outdoors, on a horse.  1  \n",
              "1                    There are children present  1  \n",
              "2                         The kids are frowning  0  \n",
              "3             The boy skates down the sidewalk.  0  \n",
              "4           The boy does a skateboarding trick.  1  "
            ],
            "text/html": [
              "\n",
              "  <div id=\"df-bce7d8d8-0a51-4a7e-8de9-9ee549bb5b72\">\n",
              "    <div class=\"colab-df-container\">\n",
              "      <div>\n",
              "<style scoped>\n",
              "    .dataframe tbody tr th:only-of-type {\n",
              "        vertical-align: middle;\n",
              "    }\n",
              "\n",
              "    .dataframe tbody tr th {\n",
              "        vertical-align: top;\n",
              "    }\n",
              "\n",
              "    .dataframe thead th {\n",
              "        text-align: right;\n",
              "    }\n",
              "</style>\n",
              "<table border=\"1\" class=\"dataframe\">\n",
              "  <thead>\n",
              "    <tr style=\"text-align: right;\">\n",
              "      <th></th>\n",
              "      <th>A person on a horse jumps over a broken down airplane.</th>\n",
              "      <th>A person is at a diner, ordering an omelette.</th>\n",
              "      <th>0</th>\n",
              "    </tr>\n",
              "  </thead>\n",
              "  <tbody>\n",
              "    <tr>\n",
              "      <th>0</th>\n",
              "      <td>A person on a horse jumps over a broken down a...</td>\n",
              "      <td>A person is outdoors, on a horse.</td>\n",
              "      <td>1</td>\n",
              "    </tr>\n",
              "    <tr>\n",
              "      <th>1</th>\n",
              "      <td>Children smiling and waving at camera</td>\n",
              "      <td>There are children present</td>\n",
              "      <td>1</td>\n",
              "    </tr>\n",
              "    <tr>\n",
              "      <th>2</th>\n",
              "      <td>Children smiling and waving at camera</td>\n",
              "      <td>The kids are frowning</td>\n",
              "      <td>0</td>\n",
              "    </tr>\n",
              "    <tr>\n",
              "      <th>3</th>\n",
              "      <td>A boy is jumping on skateboard in the middle o...</td>\n",
              "      <td>The boy skates down the sidewalk.</td>\n",
              "      <td>0</td>\n",
              "    </tr>\n",
              "    <tr>\n",
              "      <th>4</th>\n",
              "      <td>A boy is jumping on skateboard in the middle o...</td>\n",
              "      <td>The boy does a skateboarding trick.</td>\n",
              "      <td>1</td>\n",
              "    </tr>\n",
              "  </tbody>\n",
              "</table>\n",
              "</div>\n",
              "      <button class=\"colab-df-convert\" onclick=\"convertToInteractive('df-bce7d8d8-0a51-4a7e-8de9-9ee549bb5b72')\"\n",
              "              title=\"Convert this dataframe to an interactive table.\"\n",
              "              style=\"display:none;\">\n",
              "        \n",
              "  <svg xmlns=\"http://www.w3.org/2000/svg\" height=\"24px\"viewBox=\"0 0 24 24\"\n",
              "       width=\"24px\">\n",
              "    <path d=\"M0 0h24v24H0V0z\" fill=\"none\"/>\n",
              "    <path d=\"M18.56 5.44l.94 2.06.94-2.06 2.06-.94-2.06-.94-.94-2.06-.94 2.06-2.06.94zm-11 1L8.5 8.5l.94-2.06 2.06-.94-2.06-.94L8.5 2.5l-.94 2.06-2.06.94zm10 10l.94 2.06.94-2.06 2.06-.94-2.06-.94-.94-2.06-.94 2.06-2.06.94z\"/><path d=\"M17.41 7.96l-1.37-1.37c-.4-.4-.92-.59-1.43-.59-.52 0-1.04.2-1.43.59L10.3 9.45l-7.72 7.72c-.78.78-.78 2.05 0 2.83L4 21.41c.39.39.9.59 1.41.59.51 0 1.02-.2 1.41-.59l7.78-7.78 2.81-2.81c.8-.78.8-2.07 0-2.86zM5.41 20L4 18.59l7.72-7.72 1.47 1.35L5.41 20z\"/>\n",
              "  </svg>\n",
              "      </button>\n",
              "      \n",
              "  <style>\n",
              "    .colab-df-container {\n",
              "      display:flex;\n",
              "      flex-wrap:wrap;\n",
              "      gap: 12px;\n",
              "    }\n",
              "\n",
              "    .colab-df-convert {\n",
              "      background-color: #E8F0FE;\n",
              "      border: none;\n",
              "      border-radius: 50%;\n",
              "      cursor: pointer;\n",
              "      display: none;\n",
              "      fill: #1967D2;\n",
              "      height: 32px;\n",
              "      padding: 0 0 0 0;\n",
              "      width: 32px;\n",
              "    }\n",
              "\n",
              "    .colab-df-convert:hover {\n",
              "      background-color: #E2EBFA;\n",
              "      box-shadow: 0px 1px 2px rgba(60, 64, 67, 0.3), 0px 1px 3px 1px rgba(60, 64, 67, 0.15);\n",
              "      fill: #174EA6;\n",
              "    }\n",
              "\n",
              "    [theme=dark] .colab-df-convert {\n",
              "      background-color: #3B4455;\n",
              "      fill: #D2E3FC;\n",
              "    }\n",
              "\n",
              "    [theme=dark] .colab-df-convert:hover {\n",
              "      background-color: #434B5C;\n",
              "      box-shadow: 0px 1px 3px 1px rgba(0, 0, 0, 0.15);\n",
              "      filter: drop-shadow(0px 1px 2px rgba(0, 0, 0, 0.3));\n",
              "      fill: #FFFFFF;\n",
              "    }\n",
              "  </style>\n",
              "\n",
              "      <script>\n",
              "        const buttonEl =\n",
              "          document.querySelector('#df-bce7d8d8-0a51-4a7e-8de9-9ee549bb5b72 button.colab-df-convert');\n",
              "        buttonEl.style.display =\n",
              "          google.colab.kernel.accessAllowed ? 'block' : 'none';\n",
              "\n",
              "        async function convertToInteractive(key) {\n",
              "          const element = document.querySelector('#df-bce7d8d8-0a51-4a7e-8de9-9ee549bb5b72');\n",
              "          const dataTable =\n",
              "            await google.colab.kernel.invokeFunction('convertToInteractive',\n",
              "                                                     [key], {});\n",
              "          if (!dataTable) return;\n",
              "\n",
              "          const docLinkHtml = 'Like what you see? Visit the ' +\n",
              "            '<a target=\"_blank\" href=https://colab.research.google.com/notebooks/data_table.ipynb>data table notebook</a>'\n",
              "            + ' to learn more about interactive tables.';\n",
              "          element.innerHTML = '';\n",
              "          dataTable['output_type'] = 'display_data';\n",
              "          await google.colab.output.renderOutput(dataTable, element);\n",
              "          const docLink = document.createElement('div');\n",
              "          docLink.innerHTML = docLinkHtml;\n",
              "          element.appendChild(docLink);\n",
              "        }\n",
              "      </script>\n",
              "    </div>\n",
              "  </div>\n",
              "  "
            ]
          },
          "metadata": {},
          "execution_count": 10
        }
      ],
      "source": [
        "#Making a list of all Sentence pairs\n",
        "df= pd.read_csv('/content/drive/MyDrive/train_snli.txt', sep='\\t', error_bad_lines=False)\n",
        "df.head()"
      ]
    },
    {
      "cell_type": "code",
      "execution_count": null,
      "id": "mineral-sequence",
      "metadata": {
        "execution": {
          "iopub.execute_input": "2021-05-07T02:10:32.002875Z",
          "iopub.status.busy": "2021-05-07T02:10:32.002135Z",
          "iopub.status.idle": "2021-05-07T02:10:32.010694Z",
          "shell.execute_reply": "2021-05-07T02:10:32.010109Z"
        },
        "papermill": {
          "duration": 0.111908,
          "end_time": "2021-05-07T02:10:32.010840",
          "exception": false,
          "start_time": "2021-05-07T02:10:31.898932",
          "status": "completed"
        },
        "tags": [],
        "colab": {
          "base_uri": "https://localhost:8080/"
        },
        "id": "mineral-sequence",
        "outputId": "257c05e4-b3b8-4354-9ba2-4722c8c4268f"
      },
      "outputs": [
        {
          "output_type": "execute_result",
          "data": {
            "text/plain": [
              "A person on a horse jumps over a broken down airplane.    0\n",
              "A person is at a diner, ordering an omelette.             4\n",
              "0                                                         0\n",
              "dtype: int64"
            ]
          },
          "metadata": {},
          "execution_count": 11
        }
      ],
      "source": [
        "df.isnull().sum()"
      ]
    },
    {
      "cell_type": "code",
      "source": [
        "df = df.dropna()"
      ],
      "metadata": {
        "id": "SeB4GJwwD7ql"
      },
      "id": "SeB4GJwwD7ql",
      "execution_count": null,
      "outputs": []
    },
    {
      "cell_type": "code",
      "execution_count": null,
      "id": "known-communications",
      "metadata": {
        "_kg_hide-output": true,
        "execution": {
          "iopub.execute_input": "2021-05-07T02:10:38.411769Z",
          "iopub.status.busy": "2021-05-07T02:10:38.401404Z",
          "iopub.status.idle": "2021-05-07T02:10:42.738686Z",
          "shell.execute_reply": "2021-05-07T02:10:42.737865Z"
        },
        "papermill": {
          "duration": 4.40133,
          "end_time": "2021-05-07T02:10:42.738879",
          "exception": false,
          "start_time": "2021-05-07T02:10:38.337549",
          "status": "completed"
        },
        "tags": [],
        "colab": {
          "base_uri": "https://localhost:8080/"
        },
        "id": "known-communications",
        "outputId": "9985f15b-8016-4e16-8476-a2dd64e1cbd3"
      },
      "outputs": [
        {
          "output_type": "stream",
          "name": "stdout",
          "text": [
            "(367368, 1000)\n",
            "Most used 500 words: ['adult', 'adults', 'air', 'airplane', 'animal', 'animals', 'area', 'arms', 'art', 'artist', 'asian', 'asleep', 'audience', 'away', 'baby', 'background', 'bag', 'bald', 'ball', 'balloon', 'band', 'bar', 'baseball', 'basketball', 'bath', 'beach', 'bed', 'beer', 'bench', 'bicycle', 'big', 'bike', 'biker', 'bikes', 'bird', 'birds', 'black', 'blond', 'blonde', 'blue', 'board', 'boat', 'body', 'book', 'bowling', 'box', 'boy', 'boys', 'break', 'bridge', 'bright', 'brown', 'building', 'bull', 'bunch', 'bus', 'business', 'busy', 'buying', 'cafe', 'cake', 'camera', 'cap', 'car', 'carrying', 'cars', 'cart', 'cat', 'catch', 'cats', 'chair', 'chases', 'chasing', 'child', 'children', 'church', 'city', 'class', 'classroom', 'clean', 'cleaning', 'climbing', 'clothes', 'clothing', 'clown', 'coat', 'coffee', 'cold', 'colored', 'computer', 'concert', 'construction', 'cooking', 'corner', 'costume', 'couch', 'couple', 'court', 'covered', 'cowboy', 'cream', 'crossing', 'crowd', 'crying', 'cutting', 'dance', 'dancers', 'dancing', 'dark', 'daughter', 'day', 'desert', 'desk', 'different', 'dinner', 'dirt', 'diving', 'does', 'dog', 'dogs', 'doing', 'door', 'dress', 'dressed', 'drink', 'drinking', 'drinks', 'drives', 'driving', 'drums', 'dry', 'eat', 'eating', 'eats', 'elderly', 'enjoying', 'equipment', 'event', 'eyes', 'face', 'family', 'fast', 'father', 'feet', 'female', 'females', 'fence', 'field', 'fight', 'fighting', 'fish', 'fishing', 'fixing', 'flag', 'floor', 'flowers', 'flying', 'food', 'football', 'forest', 'fountain', 'friends', 'frisbee', 'fruit', 'fun', 'game', 'games', 'garden', 'gathered', 'gear', 'gets', 'getting', 'girl', 'girls', 'giving', 'glass', 'glasses', 'goes', 'going', 'golf', 'grass', 'gray', 'green', 'ground', 'group', 'guitar', 'guy', 'guys', 'gym', 'hair', 'haired', 'hand', 'hands', 'hanging', 'happy', 'hard', 'hat', 'hats', 'having', 'head', 'helmet', 'high', 'hill', 'hockey', 'holding', 'holds', 'home', 'horse', 'horses', 'hot', 'house', 'human', 'humans', 'ice', 'indoors', 'inside', 'instrument', 'instruments', 'jacket', 'jeans', 'jogging', 'jump', 'jumping', 'jumps', 'just', 'kid', 'kids', 'kitchen', 'ladder', 'ladies', 'lady', 'lake', 'large', 'laughing', 'lawn', 'laying', 'leaves', 'library', 'light', 'like', 'line', 'listening', 'little', 'living', 'long', 'look', 'looking', 'looks', 'lot', 'lunch', 'lying', 'machine', 'make', 'makes', 'making', 'male', 'mall', 'man', 'marathon', 'market', 'martial', 'match', 'meal', 'men', 'metal', 'microphone', 'middle', 'mother', 'motorcycle', 'mountain', 'mouth', 'movie', 'moving', 'mud', 'music', 'musical', 'musician', 'musicians', 'naked', 'nap', 'near', 'new', 'night', 'object', 'ocean', 'office', 'old', 'older', 'open', 'orange', 'outdoor', 'outdoors', 'outfit', 'outside', 'paint', 'painting', 'pants', 'paper', 'parade', 'park', 'parked', 'parking', 'party', 'past', 'path', 'people', 'perform', 'performing', 'performs', 'person', 'phone', 'photo', 'piano', 'picnic', 'picture', 'pictures', 'piece', 'pink', 'pizza', 'place', 'plane', 'play', 'played', 'player', 'players', 'playground', 'playing', 'plays', 'pole', 'police', 'pool', 'pose', 'poses', 'posing', 'practicing', 'preparing', 'present', 'pulling', 'purple', 'pushing', 'putting', 'race', 'racing', 'rain', 'reading', 'reads', 'ready', 'red', 'relaxing', 'restaurant', 'resting', 'ride', 'rider', 'rides', 'riding', 'river', 'road', 'rock', 'rocks', 'roller', 'roof', 'room', 'rope', 'run', 'running', 'runs', 'sand', 'school', 'seated', 'selling', 'set', 'shirt', 'shirts', 'shoes', 'shop', 'shopping', 'shorts', 'showing', 'sidewalk', 'sign', 'singing', 'sit', 'sits', 'sitting', 'skateboard', 'skateboarder', 'skateboarding', 'skating', 'skier', 'skiing', 'sky', 'sleep', 'sleeping', 'sleeps', 'slide', 'small', 'smiling', 'smoking', 'snow', 'snowboarder', 'soccer', 'son', 'speaking', 'sport', 'sports', 'stage', 'stairs', 'stand', 'standing', 'stands', 'staring', 'station', 'statue', 'steps', 'stick', 'stop', 'store', 'street', 'students', 'subway', 'suit', 'suits', 'sun', 'sunglasses', 'sunny', 'surfer', 'surfing', 'sweater', 'swim', 'swimming', 'swing', 'swinging', 'table', 'taken', 'takes', 'taking', 'talk', 'talking', 'team', 'teams', 'television', 'tennis', 'tent', 'theater', 'things', 'throwing', 'throws', 'time', 'toddler', 'touching', 'toy', 'track', 'traffic', 'train', 'tree', 'trees', 'trick', 'tricks', 'truck', 'trying', 'tv', 'umbrella', 'uniform', 'uniforms', 'uses', 'using', 'vehicle', 'vendor', 'video', 'volleyball', 'waiting', 'walk', 'walking', 'walks', 'wall', 'washing', 'watch', 'watches', 'watching', 'water', 'wearing', 'wears', 'wedding', 'wet', 'white', 'window', 'winter', 'woman', 'women', 'wood', 'woods', 'work', 'worker', 'workers', 'working', 'works', 'writing', 'yard', 'yellow', 'young']\n"
          ]
        },
        {
          "output_type": "stream",
          "name": "stderr",
          "text": [
            "/usr/local/lib/python3.8/dist-packages/sklearn/utils/deprecation.py:87: FutureWarning: Function get_feature_names is deprecated; get_feature_names is deprecated in 1.0 and will be removed in 1.2. Please use get_feature_names_out instead.\n",
            "  warnings.warn(msg, category=FutureWarning)\n"
          ]
        }
      ],
      "source": [
        "#creating bag of words model\n",
        "from sklearn.feature_extraction.text import CountVectorizer  \n",
        "max_features = 500 # max_features dimension reduction \n",
        "count_vectorizer = CountVectorizer(stop_words = \"english\",max_features = max_features) \n",
        "review_list = df.iloc[:,1]\n",
        "\n",
        "\n",
        "# stop_words parameter = automatically remove all stopwords \n",
        "# lowercase parameter \n",
        "# token_pattern removing other karakters like .. !\n",
        "\n",
        "sparce_matrix1 = count_vectorizer.fit_transform(df.iloc[:,0]).toarray()\n",
        "sparce_matrix2 = count_vectorizer.fit_transform(df.iloc[:,1]).toarray()\n",
        "\n",
        "X = np.concatenate((sparce_matrix1, sparce_matrix2), axis=1)\n",
        "print(X.shape)\n",
        "\n",
        "print(\"Most used {} words: {}\".format(max_features,count_vectorizer.get_feature_names()))\n",
        "\n",
        "#sparce matrix includes independent variable"
      ]
    },
    {
      "cell_type": "code",
      "source": [
        "y = df['0']"
      ],
      "metadata": {
        "id": "ZZtNznSpEZnF"
      },
      "id": "ZZtNznSpEZnF",
      "execution_count": null,
      "outputs": []
    },
    {
      "cell_type": "code",
      "source": [
        "from sklearn.model_selection import train_test_split\n",
        "\n",
        "X_train, X_test, y_train, y_test = train_test_split(X, y, test_size=0.30)"
      ],
      "metadata": {
        "id": "nZvkJZ0g5GZ3"
      },
      "id": "nZvkJZ0g5GZ3",
      "execution_count": null,
      "outputs": []
    },
    {
      "cell_type": "code",
      "source": [
        "X_train.shape, y_train.shape"
      ],
      "metadata": {
        "colab": {
          "base_uri": "https://localhost:8080/"
        },
        "id": "hIfawmY95hXf",
        "outputId": "9a6f7e38-b646-41ea-b56b-baadefcc7e9c"
      },
      "id": "hIfawmY95hXf",
      "execution_count": null,
      "outputs": [
        {
          "output_type": "execute_result",
          "data": {
            "text/plain": [
              "((257157, 1000), (257157,))"
            ]
          },
          "metadata": {},
          "execution_count": 16
        }
      ]
    },
    {
      "cell_type": "markdown",
      "source": [
        "Random Forest Classifier"
      ],
      "metadata": {
        "id": "sciacNPjGE8L"
      },
      "id": "sciacNPjGE8L"
    },
    {
      "cell_type": "code",
      "source": [
        "#Random Forest Classifier\n",
        "\n",
        "from sklearn.ensemble import RandomForestClassifier\n",
        "\n",
        "\n",
        "\n",
        "clf_Rf = RandomForestClassifier(max_depth=2, random_state=0)\n",
        "clf_Rf.fit(X_train, y_train)"
      ],
      "metadata": {
        "colab": {
          "base_uri": "https://localhost:8080/"
        },
        "id": "JL7QuL1v4Qxm",
        "outputId": "089cc0e7-3069-49f5-8065-2d4aff53ae1d"
      },
      "id": "JL7QuL1v4Qxm",
      "execution_count": null,
      "outputs": [
        {
          "output_type": "execute_result",
          "data": {
            "text/plain": [
              "RandomForestClassifier(max_depth=2, random_state=0)"
            ]
          },
          "metadata": {},
          "execution_count": 18
        }
      ]
    },
    {
      "cell_type": "code",
      "source": [
        "y_pred = clf_Rf.predict(X_test)"
      ],
      "metadata": {
        "id": "VEUfKVo24o3D"
      },
      "id": "VEUfKVo24o3D",
      "execution_count": null,
      "outputs": []
    },
    {
      "cell_type": "code",
      "source": [
        "print('Accuracy: ', np.sum(y_pred == y_test)/X_test.shape[0])"
      ],
      "metadata": {
        "colab": {
          "base_uri": "https://localhost:8080/"
        },
        "id": "1XMuQ5Gp5rMJ",
        "outputId": "096403c9-c596-4b8d-a661-3207128a7944"
      },
      "id": "1XMuQ5Gp5rMJ",
      "execution_count": null,
      "outputs": [
        {
          "output_type": "stream",
          "name": "stdout",
          "text": [
            "Accuracy:  0.6172160673616971\n"
          ]
        }
      ]
    },
    {
      "cell_type": "markdown",
      "source": [
        "SVM Classifier"
      ],
      "metadata": {
        "id": "Ui7-QHp5GJRF"
      },
      "id": "Ui7-QHp5GJRF"
    },
    {
      "cell_type": "code",
      "source": [
        "#SVM CLassifier\n",
        "\n",
        "from sklearn.svm import LinearSVC\n",
        "\n",
        "clf_SVM = LinearSVC(random_state=0, tol=1e-5, dual = False)\n",
        "clf_SVM.fit(X_train, y_train)"
      ],
      "metadata": {
        "id": "t7vUBhDY8U08"
      },
      "id": "t7vUBhDY8U08",
      "execution_count": null,
      "outputs": []
    },
    {
      "cell_type": "code",
      "source": [
        "y_pred = clf_SVM.predict(X_test)"
      ],
      "metadata": {
        "id": "w5rxktGn9JHS"
      },
      "id": "w5rxktGn9JHS",
      "execution_count": null,
      "outputs": []
    },
    {
      "cell_type": "code",
      "source": [
        "print('Accuracy: ', np.sum(y_pred == y_test)/X_test.shape[0])"
      ],
      "metadata": {
        "id": "luW6srbE9OFh"
      },
      "id": "luW6srbE9OFh",
      "execution_count": null,
      "outputs": []
    },
    {
      "cell_type": "markdown",
      "source": [
        "Decision Trees Classifier"
      ],
      "metadata": {
        "id": "v4zxwgPkGMIi"
      },
      "id": "v4zxwgPkGMIi"
    },
    {
      "cell_type": "code",
      "source": [
        "#Decision Trees Classifier\n",
        "\n",
        "from sklearn import tree\n",
        "\n",
        "clf_DT = tree.DecisionTreeClassifier()\n",
        "clf_DT = clf_DT.fit(X_train, y_train)"
      ],
      "metadata": {
        "id": "9IBN4gMmFdaD"
      },
      "id": "9IBN4gMmFdaD",
      "execution_count": null,
      "outputs": []
    },
    {
      "cell_type": "code",
      "source": [
        "y_pred = clf_DT.predict(X_test)\n",
        "print('Accuracy: ', np.sum(y_pred == y_test)/X_test.shape[0])"
      ],
      "metadata": {
        "id": "tf9FmN6BFuga"
      },
      "id": "tf9FmN6BFuga",
      "execution_count": null,
      "outputs": []
    },
    {
      "cell_type": "markdown",
      "source": [
        "Neural Network Based Classifier"
      ],
      "metadata": {
        "id": "H_Mrdx2sJmHN"
      },
      "id": "H_Mrdx2sJmHN"
    },
    {
      "cell_type": "code",
      "source": [
        "#NN Classifier\n",
        "\n",
        "from sklearn.neural_network import MLPClassifier\n",
        "\n",
        "clf_NN = MLPClassifier(solver='lbfgs', alpha=1e-5,hidden_layer_sizes=(5, 2), random_state=1)\n",
        "clf_NN = clf_NN.fit(X_train, y_train)"
      ],
      "metadata": {
        "id": "5LU8WGxDJmVR"
      },
      "id": "5LU8WGxDJmVR",
      "execution_count": null,
      "outputs": []
    },
    {
      "cell_type": "code",
      "source": [
        "y_pred = clf_NN.predict(X_test)\n",
        "print('Accuracy: ', np.sum(y_pred == y_test)/X_test.shape[0])"
      ],
      "metadata": {
        "id": "UU6CxEj4KNzD"
      },
      "id": "UU6CxEj4KNzD",
      "execution_count": null,
      "outputs": []
    },
    {
      "cell_type": "markdown",
      "source": [
        "Nearest Neighbours"
      ],
      "metadata": {
        "id": "ItX9K1sBKMd1"
      },
      "id": "ItX9K1sBKMd1"
    },
    {
      "cell_type": "code",
      "source": [
        "#Nearest Neighbours Classifier\n",
        "\n",
        "from sklearn.neighbors import NearestCentroid\n",
        "\n",
        "clf_neighbour = NearestCentroid()\n",
        "clf_neighbour.fit(X_train, y_train)"
      ],
      "metadata": {
        "id": "879tcII6K2Y6"
      },
      "id": "879tcII6K2Y6",
      "execution_count": null,
      "outputs": []
    },
    {
      "cell_type": "code",
      "source": [
        "y_pred = clf_neighbour.predict(X_test)\n",
        "print('Accuracy: ', np.sum(y_pred == y_test)/X_test.shape[0])"
      ],
      "metadata": {
        "id": "ekymoeSvLGZA"
      },
      "id": "ekymoeSvLGZA",
      "execution_count": null,
      "outputs": []
    },
    {
      "cell_type": "markdown",
      "source": [
        "Stochastic Gradient Descent"
      ],
      "metadata": {
        "id": "HopuEAtNLSXJ"
      },
      "id": "HopuEAtNLSXJ"
    },
    {
      "cell_type": "code",
      "source": [
        "#Stochastic Gradient Descent Classifier\n",
        "\n",
        "from sklearn.linear_model import SGDClassifier\n",
        "\n",
        "clf_SG = SGDClassifier(loss=\"hinge\", penalty=\"l2\", max_iter=5)\n",
        "clf_SG.fit(X_train, y_train)"
      ],
      "metadata": {
        "id": "gWiFB6iCLWJx"
      },
      "id": "gWiFB6iCLWJx",
      "execution_count": null,
      "outputs": []
    },
    {
      "cell_type": "code",
      "source": [
        "y_pred = clf_SG.predict(X_test)\n",
        "print('Accuracy: ', np.sum(y_pred == y_test)/X_test.shape[0])"
      ],
      "metadata": {
        "id": "BJoy88BlLnmC"
      },
      "id": "BJoy88BlLnmC",
      "execution_count": null,
      "outputs": []
    },
    {
      "cell_type": "markdown",
      "source": [
        "Naive Bayes Classifier"
      ],
      "metadata": {
        "id": "Y58_6p0RMHza"
      },
      "id": "Y58_6p0RMHza"
    },
    {
      "cell_type": "code",
      "source": [
        "# Naive Bayes Classifier - Took too long to run on our dataset\n",
        "\n",
        "# Naive Bayes Classifier\n",
        "\n",
        "from sklearn.naive_bayes import GaussianNB\n",
        "nb = GaussianNB()\n",
        "nb.fit(X_train, y_train)"
      ],
      "metadata": {
        "id": "VFb-3tUML5p7"
      },
      "id": "VFb-3tUML5p7",
      "execution_count": null,
      "outputs": []
    },
    {
      "cell_type": "code",
      "source": [
        "y_pred = nb.predict(X_test)\n",
        "print('Accuracy: ', np.sum(y_pred == y_test)/X_test.shape[0])"
      ],
      "metadata": {
        "id": "63Qd-mi6MEYG"
      },
      "id": "63Qd-mi6MEYG",
      "execution_count": null,
      "outputs": []
    }
  ],
  "metadata": {
    "kernelspec": {
      "display_name": "Python 3",
      "language": "python",
      "name": "python3"
    },
    "language_info": {
      "codemirror_mode": {
        "name": "ipython",
        "version": 3
      },
      "file_extension": ".py",
      "mimetype": "text/x-python",
      "name": "python",
      "nbconvert_exporter": "python",
      "pygments_lexer": "ipython3",
      "version": "3.7.10"
    },
    "papermill": {
      "default_parameters": {},
      "duration": 3610.954962,
      "end_time": "2021-05-07T03:10:27.616227",
      "environment_variables": {},
      "exception": null,
      "input_path": "__notebook__.ipynb",
      "output_path": "__notebook__.ipynb",
      "parameters": {},
      "start_time": "2021-05-07T02:10:16.661265",
      "version": "2.3.3"
    },
    "colab": {
      "provenance": []
    }
  },
  "nbformat": 4,
  "nbformat_minor": 5
}